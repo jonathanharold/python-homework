{
 "cells": [
  {
   "cell_type": "code",
   "execution_count": 72,
   "metadata": {},
   "outputs": [],
   "source": [
    "#Set CSV path\n",
    "\n",
    "import numpy as np\n",
    "\n",
    "from pathlib import Path\n",
    "import csv\n",
    "\n",
    "\n",
    "csvpath = Path('./budget_data.csv')"
   ]
  },
  {
   "cell_type": "code",
   "execution_count": 73,
   "metadata": {},
   "outputs": [],
   "source": [
    "#Inicitalize List\n",
    "Date=[]\n",
    "PnL= []\n",
    "line_num=0"
   ]
  },
  {
   "cell_type": "code",
   "execution_count": 74,
   "metadata": {},
   "outputs": [],
   "source": [
    "# Open the csv file as an object\n",
    "with open(csvpath, 'r') as csvfile:\n",
    "\n",
    "    # Pass in the csv file to the csv.reader() function\n",
    "    # (with ',' as the delmiter/separator) and return the csvreader object\n",
    "    csvreader = csv.reader(csvfile, delimiter=',')\n",
    "\n",
    "    # Read the header row first (skip this step if there is no header)\n",
    "    csv_header = next(csvreader)\n",
    "\n",
    "    # Read each row of data after the header\n",
    "    for row in csvreader:\n",
    "\n",
    "        # Set the 'name', 'count', and 'revenue' variables for better\n",
    "        # readability, convert strings to ints for numerical calculations\n",
    "        date_value = row[0]\n",
    "        pnl_value = int(row[1])\n",
    "\n",
    "        # Append the average to the row\n",
    "        Date.append(date_value)\n",
    "        # Append the row to the list of records\n",
    "        PnL.append(pnl_value)"
   ]
  },
  {
   "cell_type": "code",
   "execution_count": 75,
   "metadata": {},
   "outputs": [
    {
     "name": "stdout",
     "output_type": "stream",
     "text": [
      "Jan-2010\n",
      "867884\n"
     ]
    }
   ],
   "source": [
    "testdate=Date[0]\n",
    "print(testdate)\n",
    "testpnl=PnL[0]\n",
    "print(testpnl)"
   ]
  },
  {
   "cell_type": "code",
   "execution_count": 126,
   "metadata": {},
   "outputs": [],
   "source": [
    "Total_Months = len(Date)\n",
    "Total_Months_out=f\"Total_Months_Equals: {Total_Months}\""
   ]
  },
  {
   "cell_type": "code",
   "execution_count": 129,
   "metadata": {},
   "outputs": [],
   "source": [
    "#Sum of Pnl\n",
    "Total_PnL = sum(PnL)\n",
    "Total_PnL_out=f\"Total_Profits/Losses:{Total_PnL}\""
   ]
  },
  {
   "cell_type": "code",
   "execution_count": 130,
   "metadata": {},
   "outputs": [
    {
     "name": "stdout",
     "output_type": "stream",
     "text": [
      "-2315.1176470588234\n"
     ]
    }
   ],
   "source": [
    "#The average of the changes in Profit/Losses over the entire period.\n",
    "changes= np.diff(PnL)\n",
    "total_changes=len(changes)\n",
    "avg_change=sum(changes)/total_changes\n",
    "print(avg_change)\n",
    "avg_change_out=f\"Average Change:{avg_change}\""
   ]
  },
  {
   "cell_type": "code",
   "execution_count": 135,
   "metadata": {},
   "outputs": [
    {
     "name": "stdout",
     "output_type": "stream",
     "text": [
      "1926159\n",
      "Feb-2012\n"
     ]
    }
   ],
   "source": [
    "#The greatest increase in profits (date and amount) over the entire period.\n",
    "greatest_increase=max(changes)\n",
    "print(greatest_increase)\n",
    "count=0\n",
    "for value in changes:\n",
    "    count=count+1\n",
    "    if value==greatest_increase:\n",
    "        index=count\n",
    "index_greatest=index\n",
    "date_greatest=Date[index_greatest]\n",
    "print(date_greatest)\n",
    "greatest_increase_out=f\"Greatest Increase Profit:{greatest_increase} {date_greatest}\"\n"
   ]
  },
  {
   "cell_type": "code",
   "execution_count": 136,
   "metadata": {},
   "outputs": [
    {
     "name": "stdout",
     "output_type": "stream",
     "text": [
      "-2196167\n",
      "Sep-2013\n"
     ]
    }
   ],
   "source": [
    "#The greatest decrease in losses (date and amount) over the entire period.\n",
    "greatest_decrease=min(changes)\n",
    "print(greatest_decrease)\n",
    "count=0\n",
    "for value in changes:\n",
    "    count=count+1\n",
    "    if value==greatest_decrease:\n",
    "        index=count\n",
    "index_lowest=index\n",
    "date_lowest=Date[index_lowest]\n",
    "print(date_lowest)\n",
    "greatest_decrease_out=f\"Greatest Increase Profit:{greatest_decrease} {date_lowest}\""
   ]
  },
  {
   "cell_type": "code",
   "execution_count": 137,
   "metadata": {},
   "outputs": [],
   "source": [
    "#Outputting Text file sharing values of answers.\n",
    "outputs=[Total_Months_out, Total_PnL_out, avg_change_out, greatest_increase_out, greatest_decrease_out]\n",
    "with open(\"./outputs.txt\", 'w') as csvout:\n",
    "    csvwriter=csv.writer(csvout)\n",
    "    for row in outputs:\n",
    "        csvout.write(f\"{row}\\n\")"
   ]
  },
  {
   "cell_type": "code",
   "execution_count": null,
   "metadata": {},
   "outputs": [],
   "source": []
  },
  {
   "cell_type": "code",
   "execution_count": null,
   "metadata": {},
   "outputs": [],
   "source": []
  }
 ],
 "metadata": {
  "kernelspec": {
   "display_name": "Python 3",
   "language": "python",
   "name": "python3"
  },
  "language_info": {
   "codemirror_mode": {
    "name": "ipython",
    "version": 3
   },
   "file_extension": ".py",
   "mimetype": "text/x-python",
   "name": "python",
   "nbconvert_exporter": "python",
   "pygments_lexer": "ipython3",
   "version": "3.7.4"
  }
 },
 "nbformat": 4,
 "nbformat_minor": 4
}
